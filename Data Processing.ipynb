{
 "cells": [
  {
   "cell_type": "code",
   "execution_count": 1,
   "metadata": {},
   "outputs": [],
   "source": [
    "import pandas as pd\n",
    "import numpy as np\n",
    "import matplotlib.pyplot as plt\n",
    "%matplotlib inline\n",
    "\n",
    "\n",
    "import numpy as np\n",
    "import matplotlib.pyplot as plt\n",
    "import pandas as pd\n",
    "import seaborn as sns\n",
    "%matplotlib inline"
   ]
  },
  {
   "cell_type": "code",
   "execution_count": 2,
   "metadata": {},
   "outputs": [
    {
     "name": "stdout",
     "output_type": "stream",
     "text": [
      "<class 'pandas.core.frame.DataFrame'>\n",
      "RangeIndex: 225498 entries, 0 to 225497\n",
      "Data columns (total 20 columns):\n",
      "Financial_Year          225498 non-null int64\n",
      "Branch_Code             225498 non-null object\n",
      "Sequence_1              225498 non-null int64\n",
      "Sequence_2              225496 non-null float64\n",
      "Donation_type           225496 non-null object\n",
      "Donor_Age               209043 non-null float64\n",
      "Donation_Date           225496 non-null object\n",
      "Gender                  225484 non-null object\n",
      "Blood_Group_Code        224959 non-null float64\n",
      "Donor_Weight            192671 non-null float64\n",
      "Donor_Temperature       192668 non-null float64\n",
      "Donor_Pulse             192669 non-null float64\n",
      "Donor_Hemoglobin        192668 non-null float64\n",
      "Donor_Blood_Pressure    192667 non-null object\n",
      "Test_1                  222935 non-null float64\n",
      "C1                      223000 non-null object\n",
      "Test_2                  222852 non-null float64\n",
      "C2                      222884 non-null object\n",
      "Test_3                  225236 non-null object\n",
      "Test_4                  224838 non-null object\n",
      "dtypes: float64(9), int64(2), object(9)\n",
      "memory usage: 34.4+ MB\n"
     ]
    }
   ],
   "source": [
    "#Read the excel file\n",
    "\n",
    "df = pd.read_excel(r'/Users/hsnsd/Downloads/hackathon_data_round2.xlsx')\n",
    "df.info()"
   ]
  },
  {
   "cell_type": "code",
   "execution_count": 3,
   "metadata": {},
   "outputs": [
    {
     "data": {
      "text/plain": [
       "Index(['Financial_Year ', 'Branch_Code ', 'Sequence_1', 'Sequence_2',\n",
       "       'Donation_type ', 'Donor_Age ', 'Donation_Date ', 'Gender ',\n",
       "       'Blood_Group_Code', 'Donor_Weight ', 'Donor_Temperature', 'Donor_Pulse',\n",
       "       'Donor_Hemoglobin', 'Donor_Blood_Pressure', 'Test_1', 'C1', 'Test_2',\n",
       "       'C2', 'Test_3', 'Test_4'],\n",
       "      dtype='object')"
      ]
     },
     "execution_count": 3,
     "metadata": {},
     "output_type": "execute_result"
    }
   ],
   "source": [
    "df.columns"
   ]
  },
  {
   "cell_type": "code",
   "execution_count": 4,
   "metadata": {},
   "outputs": [
    {
     "data": {
      "text/plain": [
       "Index(['Financial_Year', 'Branch_Code', 'Sequence_1', 'Sequence_2',\n",
       "       'Donation_type', 'Donor_Age', 'Donation_Date', 'Gender',\n",
       "       'Blood_Group_Code', 'Donor_Weight', 'Donor_Temperature', 'Donor_Pulse',\n",
       "       'Donor_Hemoglobin', 'Donor_Blood_Pressure', 'Test_1', 'C1', 'Test_2',\n",
       "       'C2', 'Test_3', 'Test_4'],\n",
       "      dtype='object')"
      ]
     },
     "execution_count": 4,
     "metadata": {},
     "output_type": "execute_result"
    }
   ],
   "source": [
    "#Rename the column names by stripping white spaces\n",
    "\n",
    "df.rename(columns={'Financial_Year ':'Financial_Year'}, inplace=True)\n",
    "df.rename(columns={'Branch_Code ':'Branch_Code'}, inplace=True)\n",
    "df.rename(columns={'Donation_type ':'Donation_type'}, inplace=True)\n",
    "df.rename(columns={'Donor_Age ':'Donor_Age'}, inplace=True)\n",
    "df.rename(columns={'Donation_Date ':'Donation_Date'}, inplace=True)\n",
    "df.rename(columns={'Donor_Weight ':'Donor_Weight'}, inplace=True)\n",
    "\n",
    "df.rename(columns={'Gender ':'Gender'}, inplace=True)\n",
    "df.columns\n",
    "\n"
   ]
  },
  {
   "cell_type": "code",
   "execution_count": 5,
   "metadata": {},
   "outputs": [],
   "source": [
    "#Fix the anomalous ages and pulses. We made different heurestics.\n",
    "\n",
    "for idx,row in df.iterrows():\n",
    "    #Convert negative ages to positive. Assumption: Negative sign was a typo\n",
    "    if df.loc[idx,'Donor_Age'] < 0:\n",
    "        df.loc[idx,'Donor_Age'] = df.loc[idx,'Donor_Age'] *-1\n",
    "    \n",
    "    #Rescale the ages out of range by left shifting decimal one point. Assumption: A decimal point was missed while entering the data\n",
    "    if df.loc[idx,'Donor_Age'] >= 170 and df.loc[idx,'Donor_Age'] <= 999:\n",
    "        df.loc[idx,'Donor_Age'] = df.loc[idx,'Donor_Age']/10\n",
    "        \n",
    "    # Pulse rate - Valid extreme pulse range: 20-250\n",
    "    \n",
    "    #Convert negative pulse to positive. Assumption: Negative sign was a typo\n",
    "    if df.loc[idx,'Donor_Pulse'] < 0:\n",
    "        df.loc[idx,'Donor_Pulse'] = df.loc[idx,'Donor_Pulse'] * -1\n",
    "    \n",
    "    #Right shift two decimal places if pulse less than 1. Assumption: typo\n",
    "    if df.loc[idx,'Donor_Pulse'] < 1:\n",
    "        df.loc[idx,'Donor_Pulse'] = df.loc[idx,'Donor_Pulse'] * 100\n",
    "    \n",
    "    #Right shift one decimal place if pulse between 1-10. Assumption: typo\n",
    "    elif df.loc[idx,'Donor_Pulse'] >=2 and df.loc[idx,'Donor_Pulse'] < 10:\n",
    "        df.loc[idx,'Donor_Pulse'] = df.loc[idx,'Donor_Pulse'] * 10\n",
    "    \n",
    "    #Left shift one decimal place if pulse greater than 250. Assumption: typo\n",
    "    elif df.loc[idx,'Donor_Pulse'] >= 250:\n",
    "        df.loc[idx,'Donor_Pulse'] = df.loc[idx,'Donor_Pulse'] / 10"
   ]
  },
  {
   "cell_type": "code",
   "execution_count": null,
   "metadata": {},
   "outputs": [],
   "source": [
    "\"\"\"\n",
    "for idx,row in df.iterrows():\n",
    "    if df.loc[idx,'Donor_Pulse'] >= 60 and df.loc[idx,'Donor_Pulse'] <= 100:\n",
    "        df.loc[idx,'Pulse_Level'] = \"Normal\"\n",
    "    elif df.loc[idx,'Donor_Pulse'] < 60:\n",
    "        df.loc[idx,'Pulse_Level'] = \"Low\"\n",
    "    else:\n",
    "        df.loc[idx,'Pulse_Level'] = \"High\"\n",
    "\"\"\""
   ]
  },
  {
   "cell_type": "code",
   "execution_count": null,
   "metadata": {},
   "outputs": [],
   "source": [
    "#Similar heurestices were used for other attributes\n",
    "\n",
    "for idx,row in df.iterrows():\n",
    "    #Weight\n",
    "    if df.loc[idx,'Donor_Weight'] < 0:\n",
    "        df.loc[idx,'Donor_Weight'] = df.loc[idx,'Donor_Age'] *-1\n",
    "    elif df.loc[idx,'Donor_Weight'] >= 300:\n",
    "        df.loc[idx,'Donor_Weight'] = df.loc[idx,'Donor_Weight']/10\n",
    "    elif df.loc[idx,'Donor_Weight'] <= 1:\n",
    "        df.loc[idx,'Donor_Weight'] = df.loc[idx,'Donor_Weight'] * 100\n",
    "    elif df.loc[idx,'Donor_Weight'] <= 15:\n",
    "        df.loc[idx,'Donor_Weight'] = df.loc[idx,'Donor_Weight'] * 10"
   ]
  },
  {
   "cell_type": "code",
   "execution_count": null,
   "metadata": {},
   "outputs": [],
   "source": [
    "for idx,row in df.iterrows():\n",
    "    #Hemoglobin\n",
    "    if df.loc[idx,\"Donor_Hemoglobin\"] > 100 and df.loc[idx,\"Donor_Hemoglobin\"] < 300:\n",
    "        df.loc[idx,\"Donor_Hemoglobin\"] = df.loc[idx,\"Donor_Hemoglobin\"]/10"
   ]
  },
  {
   "cell_type": "code",
   "execution_count": null,
   "metadata": {},
   "outputs": [],
   "source": [
    "for idx,row in df.iterrows():\n",
    "    #Blood Group Code\n",
    "    if df.loc[idx,\"Blood_Group_Code\"] > 8 or df.loc[idx,\"Blood_Group_Code\"] < 1:\n",
    "        df.loc[idx,\"Blood_Group_Code\"] = 0"
   ]
  },
  {
   "cell_type": "code",
   "execution_count": null,
   "metadata": {},
   "outputs": [],
   "source": [
    "for idx,row in df.iterrows():\n",
    "    if df.loc[idx,'Donor_Temperature'] >= 27 and  df.loc[idx,'Donor_Temperature'] <= 33:\n",
    "        df.loc[idx,'Donor_Temperature'] = df.loc[idx,'Donor_Temperature'] + 10\n",
    "    elif df.loc[idx,'Donor_Temperature'] == 7:\n",
    "        df.loc[idx,'Donor_Temperature'] = 37\n",
    "    elif df.loc[idx,'Donor_Temperature'] == 47 or df.loc[idx,'Donor_Temperature'] == 57 or df.loc[idx,'Donor_Temperature'] == 67 or (df.loc[idx,'Donor_Temperature'] >= 70 and df.loc[idx,'Donor_Temperature'] < 90) or df.loc[idx,'Donor_Temperature'] == 99 or df.loc[idx,'Donor_Temperature'] >= 400:\n",
    "        df.loc[idx,'Donor_Temperature'] = 37\n",
    "    elif df.loc[idx,'Donor_Temperature'] >= 90 and df.loc[idx,'Donor_Temperature'] <=95:\n",
    "        df.loc[idx,'Donor_Temperature'] = 35\n",
    "    elif df.loc[idx,'Donor_Temperature'] >=96 and  df.loc[idx,'Donor_Temperature'] <=98:\n",
    "        df.loc[idx,'Donor_Temperature'] = 36"
   ]
  },
  {
   "cell_type": "code",
   "execution_count": null,
   "metadata": {},
   "outputs": [],
   "source": [
    "#Majority of the blood pressure values typed in a wrong format, were of the form 120/80.\n",
    "#Hence if any blood pressure value didn't follow the regex patter, it was converted to 120/80\n",
    "\n",
    "import re\n",
    "for idx,row in df.iterrows():\n",
    "    tmp = str(df.loc[idx,'Donor_Blood_Pressure'])\n",
    "    \n",
    "        \n",
    "    tmp = tmp.replace('Oct','100')\n",
    "    tmp = tmp.replace('Dec', '120')\n",
    "    if re.match(\"^([1-9][0-9][0-9]/[4-9][0-9]$)\", tmp) or re.match(\"^([7-9][0-9]/[4-9][0-9]$)\", tmp):\n",
    "        continue\n",
    "    else:\n",
    "        tmp = '120/80'\n",
    "    df.loc[idx,'Donor_Blood_Pressure'] = tmp\n",
    "\n",
    "\n",
    "\n"
   ]
  },
  {
   "cell_type": "code",
   "execution_count": null,
   "metadata": {},
   "outputs": [],
   "source": [
    "for idx,row in df.iterrows():\n",
    "    tmp = str(df.loc[idx,'Donor_Blood_Pressure'])\n",
    "    val = tmp.split('/')\n",
    "    df.loc[idx,'H'] = val[0]\n",
    "    df.loc[idx,'L'] = val[1]"
   ]
  },
  {
   "cell_type": "code",
   "execution_count": null,
   "metadata": {},
   "outputs": [],
   "source": [
    "df = df.drop([\"H\"],axis=1)\n",
    "df = df.drop([\"L\"],axis=1)\n",
    "df.head()"
   ]
  },
  {
   "cell_type": "code",
   "execution_count": null,
   "metadata": {},
   "outputs": [],
   "source": [
    "# means\n",
    "new_df = df[(df[\"Donor_Age\"] >= 17) & (df[\"Donor_Age\"] <= 99)]\n",
    "m = new_df[\"Donor_Age\"].mean()\n",
    "\n",
    "new_df = df[df[\"Donor_Hemoglobin\"] >= 20]\n",
    "hemo_mean = new_df[\"Donor_Hemoglobin\"].mean()\n",
    "\n",
    "# Test 2\n",
    "new_df = df[df[\"Test_2\"] < 1]\n",
    "test_2_mean = new_df[\"Test_2\"].mean()\n",
    "\n",
    "# Test 1\n",
    "new_df = df[df[\"Test_1\"] < 1]\n",
    "test_1_mean = new_df[\"Test_1\"].mean()"
   ]
  },
  {
   "cell_type": "code",
   "execution_count": null,
   "metadata": {},
   "outputs": [],
   "source": [
    "for idx,row in df.iterrows():\n",
    "    if df.loc[idx,'Donor_Age'] < 17 or df.loc[idx,'Donor_Age'] > 99:\n",
    "        df.loc[idx,'Donor_Age'] = m\n",
    "    if df.loc[idx,\"Donor_Hemoglobin\"] < 7 and df.loc[idx,\"Donor_Hemoglobin\"] > 20:\n",
    "        df.loc[idx,\"Donor_Hemoglobin\"] = hemo_mean\n",
    "    if df.loc[idx,\"Test_2\"] > 1:\n",
    "        df.loc[idx,\"Test_2\"] = test_2_mean\n",
    "    elif df.loc[idx,\"Test_1\"] > 1:\n",
    "        df.loc[idx,\"Test_1\"] = test_1_mean"
   ]
  },
  {
   "cell_type": "code",
   "execution_count": null,
   "metadata": {},
   "outputs": [],
   "source": [
    "#df = df.drop([\"Donor_Blood_Pressure\"],axis=1)"
   ]
  },
  {
   "cell_type": "code",
   "execution_count": null,
   "metadata": {},
   "outputs": [],
   "source": [
    "df[\"Donor_Age\"] = df[\"Donor_Age\"].fillna(df[\"Donor_Age\"].mean())\n",
    "df[\"Donor_Hemoglobin\"] = df[\"Donor_Hemoglobin\"].fillna(df[\"Donor_Hemoglobin\"].mean())\n",
    "df[\"Gender\"] = df[\"Gender\"].fillna(df[\"Gender\"].value_counts().argmax())\n",
    "df[\"Donor_Pulse\"] = df[\"Donor_Pulse\"].fillna(df[\"Donor_Pulse\"].mean())\n",
    "df[\"Donor_Temperature\"] = df[\"Donor_Temperature\"].fillna(37)\n",
    "df[\"Donor_Weight\"] = df[\"Donor_Weight\"].fillna(df[\"Donor_Weight\"].mean())\n",
    "df[\"Donor_Weight\"] = df[\"Donor_Weight\"].fillna(df[\"Donor_Weight\"].mean())\n",
    "df[\"C1\"] = df[\"C1\"].fillna(df[\"C1\"].value_counts().argmax())\n",
    "df[\"C2\"] = df[\"C2\"].fillna(df[\"C2\"].value_counts().argmax())\n",
    "\n",
    "\n",
    "#df[\"H\"] = df[\"H\"].fillna(df[\"H\"].mean())\n",
    "#df[\"L\"] = df[\"L\"].fillna(df[\"L\"].mean())\n",
    "\n",
    "\n",
    "df[\"Test_1\"] = df[\"Test_1\"].fillna(df[\"Test_1\"].mean())\n",
    "df[\"Test_2\"] = df[\"Test_2\"].fillna(df[\"Test_2\"].mean())\n",
    "df[\"Test_3\"] = df[\"Test_3\"].fillna(df[\"Test_3\"].value_counts().argmax())\n",
    "df[\"Test_4\"] = df[\"Test_4\"].fillna(df[\"Test_4\"].value_counts().argmax())"
   ]
  },
  {
   "cell_type": "code",
   "execution_count": null,
   "metadata": {},
   "outputs": [],
   "source": [
    "# DF TO EXCEL\n",
    "from pandas import ExcelWriter\n",
    "\n",
    "writer = ExcelWriter('/Users/hsnsd/Desktop/Hackathon/train/cleaned.xlsx')\n",
    "df.to_excel(writer,'Sheet5')\n",
    "writer.save()"
   ]
  },
  {
   "cell_type": "markdown",
   "metadata": {},
   "source": [
    "print('hello')"
   ]
  }
 ],
 "metadata": {
  "kernelspec": {
   "display_name": "Python 3",
   "language": "python",
   "name": "python3"
  },
  "language_info": {
   "codemirror_mode": {
    "name": "ipython",
    "version": 3
   },
   "file_extension": ".py",
   "mimetype": "text/x-python",
   "name": "python",
   "nbconvert_exporter": "python",
   "pygments_lexer": "ipython3",
   "version": "3.6.4"
  }
 },
 "nbformat": 4,
 "nbformat_minor": 2
}
